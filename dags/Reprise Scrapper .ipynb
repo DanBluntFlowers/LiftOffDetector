{
 "cells": [
  {
   "cell_type": "code",
   "execution_count": 197,
   "metadata": {},
   "outputs": [],
   "source": [
    "# importing the necessary packages\n",
    "from vaderSentiment.vaderSentiment import SentimentIntensityAnalyzer\n",
    "from googletrans import Translator\n",
    "from selenium import webdriver\n",
    "from selenium.webdriver.chrome.options import Options\n",
    "from selenium.webdriver.common.keys import Keys\n",
    "import time\n",
    "import html\n",
    "from Stories import *\n",
    "\n",
    "options = Options()\n",
    "options.add_argument(\"--headless\")\n",
    "options.add_argument(\"--incognito\")\n",
    "options.add_argument(\"--log-level=3\")\n",
    "driver = webdriver.Chrome(options=options)\n",
    "translator = Translator()\n",
    "analyser = SentimentIntensityAnalyzer()\n",
    "\n",
    "\n",
    "def company_url(company):\n",
    "    company_url = \"https://www.zonebourse.com/recherche/?mots={}&RewriteLast=recherche&noredirect=1&type_recherche=0\".format(\n",
    "        company)\n",
    "    return company_url\n",
    "\n",
    "\n",
    "class Scrapper:\n",
    "    # Initializer / Instance Attributes\n",
    "    # 10/10/2020 search functionality down + annoying button\n",
    "\n",
    "    def __init__(self, company):\n",
    "        self.company = company\n",
    "\n",
    "    def get_stories(self):\n",
    "        zb_url = 'https://www.zonebourse.com'\n",
    "        company = self.company.company\n",
    "        print(company)\n",
    "\n",
    "        link1 = company_url(company)\n",
    "\n",
    "        print('--FINDING COMPANY')\n",
    "        xpath_company = '//*[@id=\"ALNI0\"]/tbody/tr[2]/td[3]'\n",
    "        # try\n",
    "        driver.get(link1)\n",
    "        href = driver.find_element_by_xpath(xpath_company).get_attribute('innerHTML')\n",
    "        href = href.split(' ')[1].split('href=')[-1].split('\"')[1]\n",
    "        link2 = zb_url + href + '/actualite/'\n",
    "\n",
    "        print('--FINDING NEWS RELATED TO COMPANY')\n",
    "        print(link2)\n",
    "\n",
    "        driver.get(link2)\n",
    "        xpath_box = '//*[@id=\"autocomplete_forum\"]'         \n",
    "\n",
    "        searchbox = driver.find_element_by_xpath(xpath_box)\n",
    "        searchbox.send_keys(company)\n",
    "        searchbox.send_keys(Keys.ENTER)\n",
    "        time.sleep(.3)\n",
    "        try:\n",
    "            method = 'method_1'\n",
    "            pd.hello()\n",
    "            \"\"\"article_links = ['//*[@id=\"ALNI0\"]/tbody/tr[{}]/td'.format(i) for i in range(1, 3)]\n",
    "            article_links = [\n",
    "                driver.find_element_by_xpath(i).get_attribute('innerHTML').split('href=')[-1].split('><')[0].split('\"')[1]\n",
    "                for i in article_links\n",
    "            ]\n",
    "            article_times = ['//*[@id=\"ALNI0\"]/tbody/tr[{}]/td/a/div[2]'.format(i) for i in range(1, 3)]\n",
    "            article_times = [driver.find_element_by_xpath(i).get_attribute('innerHTML') for i in article_times]\"\"\"\n",
    "        except:\n",
    "            # if error go through possible links and check bold area\n",
    "            method = 'method_2'\n",
    "            article_times = []\n",
    "            driver.get(link2)\n",
    "            article_links = []\n",
    "            for i in range(1,6):\n",
    "                xpath_news = f'//*[@id=\"ALNI4\"]/tbody/tr[{i}]/td[2]/a'\n",
    "                news_link = driver.find_element_by_xpath(xpath_news)\n",
    "                article_links.append(news_link.get_attribute('href'))\n",
    "            print(article_links)\n",
    "\n",
    "        article_contents = []\n",
    "        for j in range(len(article_links)):\n",
    "            if method == 'method_1':\n",
    "                link3 = zb_url + article_links[j]\n",
    "            elif method == 'method_2':\n",
    "                link3 = article_links[j]\n",
    "            print(f'--FINDING ARTICLE {j+1}')\n",
    "            driver.get(link3)\n",
    "            print(link3)\n",
    "            try:\n",
    "                article_contents += [\n",
    "                    driver.find_element_by_xpath(\"//div[contains(@id, 'grantexto')]\").text\n",
    "                    ]\n",
    "                date = driver.find_element_by_xpath('//*[@id=\"zbCenter\"]/div/table[2]/tbody/tr[3]/td[1]/div[2]/div[1]/div[2]')\n",
    "                date = date.text\n",
    "                date = datetime.strptime(date, '%d/%m/%Y | %H:%M')\n",
    "                article_times += [str(date)]\n",
    "                \n",
    "                \n",
    "                print('--CONTENTS LOADED')\n",
    "\n",
    "            except:\n",
    "                print('CONTENTS NULL')\n",
    "                article_contents += ['Empty']\n",
    "                continue\n",
    "\n",
    "        print('contents done ! ---> Moving on to sentiment analysis')\n",
    "\n",
    "        sentiment = []\n",
    "        for p in range(len(article_contents)):\n",
    "            contents_txt = html.unescape(article_contents[p])\n",
    "            contents_english = translator.translate(contents_txt).text\n",
    "            score = analyser.polarity_scores(contents_english)\n",
    "            sentiment += [score['compound']]\n",
    "\n",
    "        story1 = Story(date=article_times[0], sentiment=sentiment[0], company=company,\n",
    "                       title='to_be_done', content=article_contents[0])\n",
    "\n",
    "        story2 = Story(date=article_times[1], sentiment=sentiment[1], company=company,\n",
    "                       title='to_be_done', content=article_contents[1])\n",
    "        return story1, story2\n",
    "\n",
    "        # dataframe_company = pd.DataFrame(company_list)\n",
    "        # dataframe_company['Article Times'] = article_times\n",
    "        # dataframe_company['Article Contents'] = article_contents\n",
    "\n",
    "\n",
    "\n",
    "        # find stories of a given company\n",
    "        # check match in terms of date & sentiment\n",
    "        # initialise story objects\n",
    "        # output all stories for a given company that match in terms of time\n",
    "\n"
   ]
  },
  {
   "cell_type": "code",
   "execution_count": 198,
   "metadata": {},
   "outputs": [],
   "source": [
    "class Company:\n",
    "    # Initializer / Instance Attributes\n",
    "    def __init__(self, company, trend):\n",
    "        self.company = company\n",
    "        self.trend = trend"
   ]
  },
  {
   "cell_type": "code",
   "execution_count": 199,
   "metadata": {},
   "outputs": [
    {
     "name": "stdout",
     "output_type": "stream",
     "text": [
      "Renault\n",
      "--FINDING COMPANY\n",
      "--FINDING NEWS RELATED TO COMPANY\n",
      "https://www.zonebourse.com/cours/action/RENAULT-4688//actualite/\n",
      "['https://www.zonebourse.com/cours/action/RENAULT-4688/actualite-broker/RENAULT-SA-JP-Morgan-maintient-sa-recommandation-a-l-achat-31556536/', 'https://www.zonebourse.com/actualite-bourse/Les-Bourses-europeennes-choisissent-l-optimisme-pour-la-derniere-seance-de-la--31555241/', 'https://www.zonebourse.com/actualite-bourse/Paris-rebondit-sous-l-effet-de-LVMH--31553092/', 'https://www.zonebourse.com/cours/action/RENAULT-4688/actualite-broker/RENAULT-SA-Goldman-Sachs-toujours-positif-31552192/', 'https://www.zonebourse.com/actualite-bourse/Paris-rebondit-entrainee-par-le-luxe--31551949/']\n",
      "--FINDING ARTICLE 1\n",
      "https://www.zonebourse.com/cours/action/RENAULT-4688/actualite-broker/RENAULT-SA-JP-Morgan-maintient-sa-recommandation-a-l-achat-31556536/\n",
      "CONTENTS NULL\n",
      "--FINDING ARTICLE 2\n",
      "https://www.zonebourse.com/actualite-bourse/Les-Bourses-europeennes-choisissent-l-optimisme-pour-la-derniere-seance-de-la--31555241/\n",
      "--CONTENTS LOADED\n",
      "--FINDING ARTICLE 3\n",
      "https://www.zonebourse.com/actualite-bourse/Paris-rebondit-sous-l-effet-de-LVMH--31553092/\n",
      "--CONTENTS LOADED\n",
      "--FINDING ARTICLE 4\n",
      "https://www.zonebourse.com/cours/action/RENAULT-4688/actualite-broker/RENAULT-SA-Goldman-Sachs-toujours-positif-31552192/\n",
      "CONTENTS NULL\n",
      "--FINDING ARTICLE 5\n",
      "https://www.zonebourse.com/actualite-bourse/Paris-rebondit-entrainee-par-le-luxe--31551949/\n",
      "--CONTENTS LOADED\n",
      "contents done ! ---> Moving on to sentiment analysis\n"
     ]
    }
   ],
   "source": [
    "Renault = Company('Renault', 'up')\n",
    "scrapper = Scrapper(Renault)\n",
    "stories = scrapper.get_stories()"
   ]
  },
  {
   "cell_type": "code",
   "execution_count": 163,
   "metadata": {},
   "outputs": [],
   "source": [
    "link = 'https://www.zonebourse.com/actualite-bourse/Paris-rebondit-sous-l-effet-de-LVMH--31553092/'\n",
    "options = Options()\n",
    "options.add_argument(\"--headless\")\n",
    "options.add_argument(\"--incognito\")\n",
    "options.add_argument(\"--log-level=3\")\n",
    "driver = webdriver.Chrome(options=options)"
   ]
  },
  {
   "cell_type": "code",
   "execution_count": 164,
   "metadata": {},
   "outputs": [],
   "source": [
    "driver.get(link)"
   ]
  },
  {
   "cell_type": "code",
   "execution_count": 186,
   "metadata": {},
   "outputs": [],
   "source": [
    "a = driver.find_element_by_xpath('//*[@id=\"zbCenter\"]/div/table[2]/tbody/tr[3]/td[1]/div[2]/div[1]/div[2]').text"
   ]
  },
  {
   "cell_type": "code",
   "execution_count": 203,
   "metadata": {},
   "outputs": [
    {
     "data": {
      "text/plain": [
       "datetime.datetime(2020, 10, 16, 19, 5)"
      ]
     },
     "execution_count": 203,
     "metadata": {},
     "output_type": "execute_result"
    }
   ],
   "source": [
    "stories[0].date"
   ]
  },
  {
   "cell_type": "code",
   "execution_count": 188,
   "metadata": {},
   "outputs": [],
   "source": [
    "from datetime import datetime"
   ]
  },
  {
   "cell_type": "code",
   "execution_count": 194,
   "metadata": {},
   "outputs": [],
   "source": [
    "b = str(datetime.strptime(a, '%d/%m/%Y | %H:%M'))"
   ]
  },
  {
   "cell_type": "code",
   "execution_count": 196,
   "metadata": {},
   "outputs": [
    {
     "data": {
      "text/plain": [
       "'2020-10-16 09:58:00'"
      ]
     },
     "execution_count": 196,
     "metadata": {},
     "output_type": "execute_result"
    }
   ],
   "source": [
    "b"
   ]
  },
  {
   "cell_type": "code",
   "execution_count": null,
   "metadata": {},
   "outputs": [],
   "source": []
  }
 ],
 "metadata": {
  "kernelspec": {
   "display_name": "Python 3",
   "language": "python",
   "name": "python3"
  },
  "language_info": {
   "codemirror_mode": {
    "name": "ipython",
    "version": 3
   },
   "file_extension": ".py",
   "mimetype": "text/x-python",
   "name": "python",
   "nbconvert_exporter": "python",
   "pygments_lexer": "ipython3",
   "version": "3.7.4"
  }
 },
 "nbformat": 4,
 "nbformat_minor": 2
}
