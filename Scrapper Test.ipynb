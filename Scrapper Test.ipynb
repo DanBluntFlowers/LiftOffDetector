{
 "cells": [
  {
   "cell_type": "code",
   "execution_count": 1,
   "metadata": {},
   "outputs": [],
   "source": [
    "# importing the necessary packages\n",
    "import requests\n",
    "from bs4 import BeautifulSoup\n",
    "from datetime import datetime\n",
    "from vaderSentiment.vaderSentiment import SentimentIntensityAnalyzer\n",
    "import requests\n",
    "from bs4 import BeautifulSoup\n",
    "from googletrans import Translator\n",
    "from selenium import webdriver\n",
    "from selenium.webdriver.chrome.options import Options\n",
    "from selenium.webdriver.common.keys import Keys\n",
    "\n",
    "\n",
    "class Scrapper:\n",
    "    # Initializer / Instance Attributes\n",
    "    def __init__(self, company):\n",
    "        self.company = company\n",
    "\n",
    "    def get_stories(self, company):\n",
    "        options = Options()\n",
    "        options.add_argument(\"--headless\")\n",
    "        driver = webdriver.Chrome(options=options)\n",
    "\n",
    "        url_prefix = 'https://www.zonebourse.com/recherche/actualites/?aComposeInputSearch=s_'\n",
    "        zb_prefix = 'https://www.zonebourse.com'\n",
    "\n",
    "        company_url = url_prefix + company_name\n",
    "        print(company_url)\n",
    "        r1 = requests.get(company_url)\n",
    "        coverpage = r1.content\n",
    "        soup1 = BeautifulSoup(coverpage, 'html5lib')\n",
    "        coverpage_news = soup1.find(class_='tabBody')\n",
    "        stories = str(coverpage_news).split('</tr>')\n",
    "        stories = stories[:-1]\n",
    "        links = [i.split('href=\"')[-1].split('\" style')[0] for i in stories]\n",
    "        print(links)\n",
    "        for i in stories:\n",
    "            timestamps += [i.split(\"\"\"color:#818181;\">\"\"\")[-1].split('</div>')[0]]\n",
    "        timestamps = [datetime.strptime(i, \"%Y-%m-%d %H:%M:%S\") for i in timestamps]\n",
    "        now = datetime.now()\n",
    "        now_string = now.strftime(\"%Y-%m-%d %H:%M:%S\")\n",
    "        now_string = datetime.strptime(now_string, \"%Y-%m-%d %H:%M:%S\")\n",
    "        validated_times = [i for i in range(len(timestamps)) if (now_string - timestamps[i]).days == 1]\n",
    "\n",
    "        titles = []\n",
    "        validated_timestamps = [timestamps[i] for i in validated_times]\n",
    "\n",
    "        for i in validated_times:\n",
    "            url = zb_prefix + links[i]\n",
    "            print(url)\n",
    "            driver.get(url)\n",
    "            story = driver.find_element_by_xpath(\n",
    "                \"\"\"/html/body/div[6]/table/tbody/tr/td[1]/table/tbody/tr[2]/td/div/table[2]/tbody/tr[3]/td[1]/div[2]/div/span/div[1]\"\"\").text\n",
    "            all_stories += [story]\n",
    "\n",
    "\n",
    "        #find stories of a given company\n",
    "        #check match in terms of date & sentiment\n",
    "        #initialise story objects\n",
    "        #output all stories for a given company that match in terms of time\n",
    "\n",
    "\n",
    "        url_prefix = 'https://www.zonebourse.com/recherche/actualites/?aComposeInputSearch=s_'\n",
    "        zb_prefix = 'https://www.zonebourse.com'"
   ]
  },
  {
   "cell_type": "code",
   "execution_count": 1,
   "metadata": {},
   "outputs": [],
   "source": [
    "# importing the necessary packages\n",
    "import requests\n",
    "from bs4 import BeautifulSoup\n",
    "from datetime import datetime\n",
    "from vaderSentiment.vaderSentiment import SentimentIntensityAnalyzer\n",
    "import requests\n",
    "from bs4 import BeautifulSoup\n",
    "from googletrans import Translator\n",
    "from selenium import webdriver\n",
    "from selenium.webdriver.chrome.options import Options\n",
    "from selenium.webdriver.common.keys import Keys\n",
    "import time\n",
    "import pandas as pd"
   ]
  },
  {
   "cell_type": "code",
   "execution_count": 2,
   "metadata": {},
   "outputs": [],
   "source": [
    "options = Options()  \n",
    "options.add_argument(\"--headless\")\n",
    "options.add_argument(\"--incognito\")\n",
    "driver = webdriver.Chrome(options=options)"
   ]
  },
  {
   "cell_type": "code",
   "execution_count": 3,
   "metadata": {},
   "outputs": [
    {
     "data": {
      "text/plain": [
       "'https://www.zonebourse.com/recherche/?mots=Orange&RewriteLast=recherche&noredirect=1&type_recherche=0'"
      ]
     },
     "execution_count": 3,
     "metadata": {},
     "output_type": "execute_result"
    }
   ],
   "source": [
    "def company_url(company):\n",
    "    company_url = \"https://www.zonebourse.com/recherche/?mots={}&RewriteLast=recherche&noredirect=1&type_recherche=0\".format(company)\n",
    "    return company_url\n",
    "\n",
    "def company_news_url(comp_url):\n",
    "    return zb_prefix + comp_url + 'actualite-historique/'\n",
    "    \n",
    "company_url('Orange')"
   ]
  },
  {
   "cell_type": "code",
   "execution_count": 4,
   "metadata": {},
   "outputs": [],
   "source": [
    "company = 'Orange'"
   ]
  },
  {
   "cell_type": "code",
   "execution_count": 5,
   "metadata": {},
   "outputs": [
    {
     "name": "stdout",
     "output_type": "stream",
     "text": [
      "https://www.zonebourse.com/recherche/?mots=Orange&RewriteLast=recherche&noredirect=1&type_recherche=0\n"
     ]
    }
   ],
   "source": [
    "time_tolerance = 1\n",
    "timestamps = []\n",
    "all_stories = []\n",
    "\n",
    "company_url = company_url(company)\n",
    "print(company_url)\n"
   ]
  },
  {
   "cell_type": "code",
   "execution_count": 10,
   "metadata": {},
   "outputs": [
    {
     "name": "stdout",
     "output_type": "stream",
     "text": [
      "['/ORANGE-4649/', '\\n            </tbody></table> \\n            </div>\\n            <div style=\"margin-top:5px;\"><span style=\"background-color:#FFBF00\">Orange</span> est le 1er opérateur de télécommunications français. Le CA (avant éliminations intragroupe) par activité se répartit comme suit :\\n\\n- prestations de services de télécommunications aux particuliers (78,9%) : prestations de téléphonie mobile (207,2 millions de clients à fin 2...</div> \\n         </td>\\n\\t', '/NEWCREST-MINING-LIMITED-6491457/', '\\n            </tbody></table> \\n            </div>\\n            <div style=\"margin-top:5px;\">... Ses actifs comprennent Cadia, Telfer, Lihir, Gosowong, Red Chris et Wafi-Golpu. Le site de Cadia est situé à environ 25 kilomètres (kms) d\\'<span style=\"background-color:#FFBF00\">Orange</span>, en Nouvelle-Galles du Sud (NSW). L\\'actif Telfer est situé à environ 400 km de Port Hedland, en Australie occidentale (WA). L\\'actif d...</div> \\n         </td>\\n\\t', '/IDEX-CORPORATION-13044/', '\\n            </tbody></table> \\n            </div>\\n            <div style=\"margin-top:5px;\">Idex Corporation est spécialisé dans la conception, la fabrication et la commercialisation de pompes et de systèmes de fluides. Le CA par famille de produits se répartit comme suit :\\n\\n- compteurs de débit (38,3%). Le CA par marché se ventile essentiellement entre industrie (35%),...</div> \\n         </td>\\n\\t', '/SHINHAN-FINANCIAL-GROUP-C-6496192/', '\\n            </tbody></table> \\n            </div>\\n            <div style=\"margin-top:5px;\">Shinhan Financial Group Co., Ltd. est une société basée en Corée dont l\\'activité principale est le secteur bancaire. La société exerce ses activités dans cinq secteurs. Le segment Banque offre des services de banque commerciale. Le segment des cartes de crédit fournit des service...</div> \\n         </td>\\n\\t', '/KILROY-REALTY-CORPORATION-13297/', '\\n            </tbody></table> \\n            </div>\\n            <div style=\"margin-top:5px;\">... développe, acquiert et gère des actifs immobiliers, principalement des propriétés de catégorie A dans les régions côtières de Los Angeles, <span style=\"background-color:#FFBF00\">Orange</span> County, San Diego County, San Francisco Bay Area et Greater Seattle. Elle détient ses participations dans tous ses actifs immobiliers...</div> \\n         </td>\\n\\t', '/ORANGE-LIFE-INSURANCE-LTD-36911402/', '\\n            </tbody></table> \\n            </div>\\n            <div style=\"margin-top:5px;\"><span style=\"background-color:#FFBF00\">Orange</span> Life Insurance, Ltd, anciennement ING Life Insurance Korea, Ltd, est une société coréenne principalement active dans la fourniture de produits d\\'assurance vie et de services connexes. La Compagnie offre des produits d\\'assurance, notamment de l\\'assurance vie entière, de l\\'a...</div> \\n         </td>\\n\\t']\n"
     ]
    }
   ],
   "source": [
    "r1 = requests.get(company_url)\n",
    "coverpage = r1.content\n",
    "soup1 = BeautifulSoup(coverpage, 'html5lib')\n",
    "coverpage_news = soup1.find(class_='tabBody')\n",
    "stories = str(coverpage_news).split('</tr>')\n",
    "stories = stories[:-1]\n",
    "links = [i.split('href=\"')[-1].split('\" style')[0] for i in stories]\n",
    "print(links)"
   ]
  },
  {
   "cell_type": "markdown",
   "metadata": {},
   "source": [
    "This doesn't work !!"
   ]
  },
  {
   "cell_type": "code",
   "execution_count": 9,
   "metadata": {},
   "outputs": [
    {
     "name": "stdout",
     "output_type": "stream",
     "text": [
      "link0Orange\n",
      "link1Orange\n",
      "link2Orange\n",
      "link3Orange\n",
      "link4Orange\n",
      "link2Fermentalg\n",
      "link3Fermentalg\n",
      "link0Airbus\n",
      "link1Airbus\n",
      "link2Airbus\n",
      "link3Airbus\n",
      "link4Airbus\n",
      "link0Air France\n",
      "link1Air France\n",
      "link2Air France\n",
      "link3Air France\n",
      "link4Air France\n",
      "link0Neovacs\n",
      "link1Neovacs\n",
      "link2Neovacs\n",
      "link3Neovacs\n",
      "link4Neovacs\n",
      "link0Soitec\n",
      "link1Soitec\n",
      "link2Soitec\n",
      "link3Soitec\n",
      "link4Soitec\n",
      "link0Wirecard\n",
      "link1Wirecard\n",
      "link2Wirecard\n",
      "link3Wirecard\n",
      "link4Wirecard\n"
     ]
    }
   ],
   "source": [
    "company_list_all = ['Orange', 'Fermentalg', 'Airbus', 'Air France', 'Neovacs', 'Soitec', 'Wirecard']\n",
    "\n",
    "def company_url(company):\n",
    "    company_url = \"https://www.zonebourse.com/recherche/?mots={}&RewriteLast=recherche&noredirect=1&type_recherche=0\".format(company)\n",
    "    return company_url\n",
    "\n",
    "zb_url = 'https://www.zonebourse.com'\n",
    "df_list = []\n",
    "for i in company_list_all:\n",
    "    company = i\n",
    "    company_list = [company for i in range(5)]\n",
    "    link1 = company_url(company)\n",
    "    xpath_company = '//*[@id=\"ALNI0\"]/tbody/tr[2]/td[3]'\n",
    "    driver.get(link1)\n",
    "    href = driver.find_element_by_xpath(xpath_company).get_attribute('innerHTML')\n",
    "    href = href.split(' ')[1].split('href=')[-1].split('\"')[1]\n",
    "    link2 = zb_url + href + '/actualite/'\n",
    "    driver.get(link2)\n",
    "    xpath_box = '//*[@id=\"autocomplete_forum\"]'\n",
    "    searchbox = driver.find_element_by_xpath(xpath_box)\n",
    "    searchbox.send_keys(company)\n",
    "    searchbox.send_keys(Keys.ENTER)\n",
    "    time.sleep(.3)\n",
    "    article_links = ['//*[@id=\"ALNI0\"]/tbody/tr[{}]/td'.format(i) for i in range(1,6)]\n",
    "    article_links = [driver.find_element_by_xpath(i).get_attribute('innerHTML').split('href=')[-1].split('><')[0].split('\"')[1]\n",
    "                    for i in article_links]\n",
    "    article_times = ['//*[@id=\"ALNI0\"]/tbody/tr[{}]/td/a/div[2]'.format(i) for i in range(1,6)]\n",
    "    article_times = [driver.find_element_by_xpath(i).get_attribute('innerHTML') for i in article_times]\n",
    "\n",
    "    article_contents = []\n",
    "    for j in range(len(article_links)):\n",
    "        link3 = zb_url + article_links[j]\n",
    "        driver.get(link3)\n",
    "        try:\n",
    "            article_contents += [driver.find_element_by_xpath('//*[@id=\"grantexto\"]').get_attribute('innerHTML').split('<br>')[0]]\n",
    "        except:\n",
    "            article_contents += ['Empty']\n",
    "            continue\n",
    "        print('link' + str(j) + i)\n",
    "    dataframe_company = pd.DataFrame(company_list)\n",
    "    dataframe_company['Article Times'] = article_times\n",
    "    dataframe_company['Article Contents'] = article_contents    \n",
    "    df_list += [dataframe_company]\n",
    "#Make dataframe \n",
    "#set-up timer and make into function \n",
    "\n",
    "\n",
    "#print(article_links)\n",
    "#headlines = [driver.find_element_by_xpath('//*[@id=\"ALNI0\"]/tbody/tr[{}]/td/a/div[1]'.format(i)).text for i in range(1,10)]\n",
    "#headlines\n",
    "\n",
    "#link = 'https://www.zonebourse.com/ORANGE-4649/actualite/'\n",
    "#xpath ='//*[@id=\"autocomplete_forum\"]'"
   ]
  },
  {
   "cell_type": "code",
   "execution_count": 37,
   "metadata": {},
   "outputs": [
    {
     "name": "stdout",
     "output_type": "stream",
     "text": [
      "£682m\n"
     ]
    },
    {
     "data": {
      "text/plain": [
       "<googletrans.models.Translated at 0x1b634270ac8>"
      ]
     },
     "execution_count": 37,
     "metadata": {},
     "output_type": "execute_result"
    }
   ],
   "source": [
    "# df_list[-3]['Article Contents'].iloc[4]\n",
    "translator = Translator()\n",
    "a = str(df_list[-3]['Article Contents'].iloc[4])\n",
    "b = a[:300]\n",
    "import html\n",
    "print(html.unescape('&pound;682m'))\n",
    "b = html.unescape(a)\n",
    "#b = \"Tirage d'une tranche d'ORNANE de 500 000€ de valeur nominale dans le cadre du contrat de financement en vigueur avec HBR Investment Group nbsp; . Conclusion d'une convention de fiducie permettant de monétiser les titres Néovacs détenus par HBR In\"\n",
    "contents_english = translator.translate(b)\n",
    "contents_english"
   ]
  },
  {
   "cell_type": "code",
   "execution_count": 43,
   "metadata": {},
   "outputs": [
    {
     "data": {
      "text/plain": [
       "-0.3818"
      ]
     },
     "execution_count": 43,
     "metadata": {},
     "output_type": "execute_result"
    }
   ],
   "source": [
    "from vaderSentiment.vaderSentiment import SentimentIntensityAnalyzer\n",
    "analyser = SentimentIntensityAnalyzer()\n",
    "sentence = 'This phone is crap'\n",
    "score = analyser.polarity_scores(sentence)\n",
    "score['compound']"
   ]
  },
  {
   "cell_type": "code",
   "execution_count": null,
   "metadata": {},
   "outputs": [],
   "source": [
    "company = 'Orange'\n",
    "company_list = [company for i in range(5)]\n",
    "link1 = company_url(company)\n",
    "xpath_company = '//*[@id=\"ALNI0\"]/tbody/tr[2]/td[3]'\n",
    "driver.get(link1)\n",
    "href = driver.find_element_by_xpath(xpath_company).get_attribute('innerHTML')\n",
    "href = href.split(' ')[1].split('href=')[-1].split('\"')[1]\n",
    "link2 = zb_url + href + '/actualite/'\n",
    "driver.get(link2)\n",
    "xpath_box = '//*[@id=\"autocomplete_forum\"]'\n",
    "searchbox = driver.find_element_by_xpath(xpath_box)\n",
    "searchbox.send_keys(company)\n",
    "searchbox.send_keys(Keys.ENTER)\n",
    "time.sleep(.3)\n",
    "article_links = ['//*[@id=\"ALNI0\"]/tbody/tr[{}]/td'.format(i) for i in range(1,6)]\n",
    "article_links = [driver.find_element_by_xpath(i).get_attribute('innerHTML').split('href=')[-1].split('><')[0].split('\"')[1]\n",
    "                for i in article_links]\n",
    "article_times = ['//*[@id=\"ALNI0\"]/tbody/tr[{}]/td/a/div[2]'.format(i) for i in range(1,6)]\n",
    "article_times = [driver.find_element_by_xpath(i).get_attribute('innerHTML') for i in article_times]\n",
    "\n",
    "article_contents = []\n",
    "for i in article_links :\n",
    "    link3 = zb_url + i\n",
    "    driver.get(link3)\n",
    "    article_contents += [driver.find_element_by_xpath('//*[@id=\"grantexto\"]').get_attribute('innerHTML').split('<br>')[0]]\n",
    "dataframe_company = pd.DataFrame([company_list, article_times, article_contents])  "
   ]
  },
  {
   "cell_type": "code",
   "execution_count": 28,
   "metadata": {},
   "outputs": [],
   "source": [
    "xpath_box = '//*[@id=\"zbCenter\"]/div/table[1]/tbody/tr/td/table/tbody/tr/td[4]/nobr/a'"
   ]
  },
  {
   "cell_type": "code",
   "execution_count": 134,
   "metadata": {},
   "outputs": [],
   "source": [
    "driver.get(link3)\n",
    "contents = driver.find_element_by_xpath('//*[@id=\"grantexto\"]').get_attribute('innerHTML').split('<br>')[0]"
   ]
  },
  {
   "cell_type": "code",
   "execution_count": 37,
   "metadata": {},
   "outputs": [],
   "source": [
    "searchbox = driver.find_element_by_xpath(xpath_act)"
   ]
  },
  {
   "cell_type": "code",
   "execution_count": 38,
   "metadata": {},
   "outputs": [],
   "source": [
    "searchbox.send_keys(company)"
   ]
  },
  {
   "cell_type": "code",
   "execution_count": 39,
   "metadata": {},
   "outputs": [],
   "source": [
    "searchbox.send_keys(Keys.ENTER)"
   ]
  },
  {
   "cell_type": "code",
   "execution_count": 77,
   "metadata": {},
   "outputs": [
    {
     "data": {
      "text/plain": [
       "['Wirecard dépose le bilan, \"l\\'argent s\\'est envolé\"',\n",
       " 'Orange : BlackRock passe sous les 5% du capital',\n",
       " 'Orange : BlackRock dépasse les 5% du capital',\n",
       " \"Orange : condamné à verser 249 mlns d'euros à Digicel pour pratiques anticoncurrentielles\",\n",
       " \"Orange : condamné à verser 250 mlns d'euros de dommages à Digicel\",\n",
       " \"Orange : condamné à payer près de 250 millions d'euros à Digicel, rapporte Capital\",\n",
       " 'Orange : BlackRock a baissé sa participation',\n",
       " 'ORANGE : Berenberg maintient son opinion neutre',\n",
       " \"Les opérateurs télécoms ont investi 10,4 milliards d'euros en 2019\"]"
      ]
     },
     "execution_count": 77,
     "metadata": {},
     "output_type": "execute_result"
    }
   ],
   "source": [
    "xpath = [driver.find_element_by_xpath('//*[@id=\"ALNI0\"]/tbody/tr[{}]/td/a/div[1]'.format(i)).text for i in range(1,10)]\n",
    "xpath"
   ]
  },
  {
   "cell_type": "code",
   "execution_count": 78,
   "metadata": {},
   "outputs": [
    {
     "data": {
      "text/plain": [
       "['Wirecard dépose le bilan, \"l\\'argent s\\'est envolé\"',\n",
       " 'Orange : BlackRock passe sous les 5% du capital',\n",
       " 'Orange : BlackRock dépasse les 5% du capital',\n",
       " \"Orange : condamné à verser 249 mlns d'euros à Digicel pour pratiques anticoncurrentielles\",\n",
       " \"Orange : condamné à verser 250 mlns d'euros de dommages à Digicel\",\n",
       " \"Orange : condamné à payer près de 250 millions d'euros à Digicel, rapporte Capital\",\n",
       " 'Orange : BlackRock a baissé sa participation',\n",
       " 'ORANGE : Berenberg maintient son opinion neutre',\n",
       " \"Les opérateurs télécoms ont investi 10,4 milliards d'euros en 2019\"]"
      ]
     },
     "execution_count": 78,
     "metadata": {},
     "output_type": "execute_result"
    }
   ],
   "source": [
    "headlines = [driver.find_element_by_xpath('//*[@id=\"ALNI0\"]/tbody/tr[{}]/td/a/div[1]'.format(i)).text for i in range(1,10)]\n",
    "headlines"
   ]
  },
  {
   "cell_type": "code",
   "execution_count": null,
   "metadata": {},
   "outputs": [],
   "source": []
  }
 ],
 "metadata": {
  "kernelspec": {
   "display_name": "Python 3",
   "language": "python",
   "name": "python3"
  },
  "language_info": {
   "codemirror_mode": {
    "name": "ipython",
    "version": 3
   },
   "file_extension": ".py",
   "mimetype": "text/x-python",
   "name": "python",
   "nbconvert_exporter": "python",
   "pygments_lexer": "ipython3",
   "version": "3.7.4"
  }
 },
 "nbformat": 4,
 "nbformat_minor": 2
}
